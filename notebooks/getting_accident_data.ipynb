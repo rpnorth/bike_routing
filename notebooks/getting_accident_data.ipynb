{
 "cells": [
  {
   "cell_type": "markdown",
   "metadata": {},
   "source": [
    "# Initial attempt at getting data from website using scraping"
   ]
  },
  {
   "cell_type": "code",
   "execution_count": 1,
   "metadata": {},
   "outputs": [],
   "source": [
    "# based on https://stackoverflow.com/questions/44187490/downloading-files-from-a-website-using-python\n",
    "\n",
    "from __future__ import print_function\n",
    "\n",
    "import requests\n",
    "from bs4 import BeautifulSoup\n",
    "import re\n"
   ]
  },
  {
   "cell_type": "code",
   "execution_count": 22,
   "metadata": {},
   "outputs": [
    {
     "name": "stdout",
     "output_type": "stream",
     "text": [
      "[<a id=\"Download Unfallorte 2016 CSV-Format\" title=\"DownLoad\"><span class=\"esri-icon-download\"></span> Download Unfallorte 2016 - CSV-Format (zip)</a>, <a id=\"Download Unfallorte 2017 CSV-Format\" title=\"DownLoad\"><span class=\"esri-icon-download\"></span> Download Unfallorte 2017 - CSV-Format (zip)</a>, <a id=\"Download Unfallorte 2018 CSV-Format\" title=\"DownLoad\"><span class=\"esri-icon-download\"></span> Download Unfallorte 2018 - CSV-Format (zip)</a>, <a id=\"Download Unfallorte 2019 CSV-Format\" title=\"DownLoad\"><span class=\"esri-icon-download\"></span> Download Unfallorte 2019 - CSV-Format (zip)</a>, <a id=\"Download Unfallorte 2020 CSV-Format\" title=\"DownLoad\"><span class=\"esri-icon-download\"></span> Download Unfallorte 2020 - CSV-Format (zip)</a>, <a id=\"Download Unfallorte 2021 CSV-Format\" title=\"DownLoad\"><span class=\"esri-icon-download\"></span> Download Unfallorte 2021 - CSV-Format (zip)</a>]\n"
     ]
    },
    {
     "ename": "KeyError",
     "evalue": "'href'",
     "output_type": "error",
     "traceback": [
      "\u001b[0;31m---------------------------------------------------------------------------\u001b[0m",
      "\u001b[0;31mKeyError\u001b[0m                                  Traceback (most recent call last)",
      "Cell \u001b[0;32mIn [22], line 33\u001b[0m\n\u001b[1;32m     31\u001b[0m years \u001b[39m=\u001b[39m soup\u001b[39m.\u001b[39mfind_all(\u001b[39mid\u001b[39m\u001b[39m=\u001b[39m(re\u001b[39m.\u001b[39mcompile(\u001b[39m\"\u001b[39m\u001b[39mDownload\u001b[39m\u001b[39m\"\u001b[39m) \u001b[39mand\u001b[39;00m re\u001b[39m.\u001b[39mcompile(\u001b[39m\"\u001b[39m\u001b[39mCSV-Format\u001b[39m\u001b[39m\"\u001b[39m)))\n\u001b[1;32m     32\u001b[0m \u001b[39mprint\u001b[39m(years)\n\u001b[0;32m---> 33\u001b[0m years_links \u001b[39m=\u001b[39m get_links(years)\n\u001b[1;32m     34\u001b[0m \u001b[39mprint\u001b[39m\n\u001b[1;32m     36\u001b[0m links_to_download \u001b[39m=\u001b[39m []\n",
      "Cell \u001b[0;32mIn [22], line 10\u001b[0m, in \u001b[0;36mget_links\u001b[0;34m(tags_list)\u001b[0m\n\u001b[1;32m      9\u001b[0m \u001b[39mdef\u001b[39;00m \u001b[39mget_links\u001b[39m(tags_list):\n\u001b[0;32m---> 10\u001b[0m     \u001b[39mreturn\u001b[39;00m [WEB_ROOT \u001b[39m+\u001b[39m tag\u001b[39m.\u001b[39mattrs[\u001b[39m'\u001b[39m\u001b[39mhref\u001b[39m\u001b[39m'\u001b[39m] \u001b[39mfor\u001b[39;00m tag \u001b[39min\u001b[39;00m tags_list]\n",
      "Cell \u001b[0;32mIn [22], line 10\u001b[0m, in \u001b[0;36m<listcomp>\u001b[0;34m(.0)\u001b[0m\n\u001b[1;32m      9\u001b[0m \u001b[39mdef\u001b[39;00m \u001b[39mget_links\u001b[39m(tags_list):\n\u001b[0;32m---> 10\u001b[0m     \u001b[39mreturn\u001b[39;00m [WEB_ROOT \u001b[39m+\u001b[39m tag\u001b[39m.\u001b[39;49mattrs[\u001b[39m'\u001b[39;49m\u001b[39mhref\u001b[39;49m\u001b[39m'\u001b[39;49m] \u001b[39mfor\u001b[39;00m tag \u001b[39min\u001b[39;00m tags_list]\n",
      "\u001b[0;31mKeyError\u001b[0m: 'href'"
     ]
    }
   ],
   "source": [
    "def file_links_filter(tag):\n",
    "    \"\"\"\n",
    "    Tags filter. Return True for links that ends with 'pdf', 'htm' or 'txt'\n",
    "    \"\"\"\n",
    "    if isinstance(tag, str):\n",
    "        return tag.endswith('pdf') or tag.endswith('zip') or tag.endswith('txt')\n",
    "\n",
    "\n",
    "def get_links(tags_list):\n",
    "    return [WEB_ROOT + tag.attrs['href'] for tag in tags_list]\n",
    "\n",
    "\n",
    "def download_file(file_link, folder):\n",
    "    file = requests.get(file_link).content\n",
    "    name = file_link.split('/')[-1]\n",
    "    save_path = folder + name\n",
    "\n",
    "    print(\"Saving file:\", save_path)\n",
    "    with open(save_path, 'wb') as fp:\n",
    "        fp.write(file)\n",
    "\n",
    "\n",
    "WEB_ROOT = 'https://unfallatlas.statistikportal.de'\n",
    "SAVE_FOLDER = '../data/'  # directory in which files will be downloaded\n",
    "\n",
    "r = requests.get(\"https://unfallatlas.statistikportal.de/_opendata2022.html\")\n",
    "\n",
    "soup = BeautifulSoup(r.content, 'html.parser')\n",
    "\n",
    "#years = soup.select(\"h4#f2 > a\")  # css selector for all <a> inside <p id='archive'> tag\n",
    "years = soup.find_all(id=(re.compile(\"Download\") and re.compile(\"CSV-Format\")))\n",
    "print(years)\n",
    "\n",
    "!!! HAVE LINKS, but not working like this example\n",
    "\n",
    "years_links = get_links(years)\n",
    "print\n",
    "\n",
    "links_to_download = []\n",
    "for year_link in years_links:\n",
    "    page = requests.get(year_link)\n",
    "    beautiful_page = BeautifulSoup(page.content, 'html.parser')\n",
    "\n",
    "    links = beautiful_page.find_all(\"a\", href=file_links_filter)\n",
    "    links = get_links(links)\n",
    "\n",
    "    links_to_download.extend(links)\n",
    "\n",
    "# make set to exclude duplicate links\n",
    "links_to_download = set(links_to_download)\n",
    "\n",
    "print(\"Got links:\", links_to_download)\n",
    "\n",
    "for link in set(links_to_download):\n",
    "    download_file(link, SAVE_FOLDER)"
   ]
  },
  {
   "cell_type": "code",
   "execution_count": 17,
   "metadata": {},
   "outputs": [],
   "source": [
    "import re"
   ]
  },
  {
   "cell_type": "code",
   "execution_count": 21,
   "metadata": {},
   "outputs": [
    {
     "data": {
      "text/plain": [
       "[<a id=\"Download Unfallorte 2016 CSV-Format\" title=\"DownLoad\"><span class=\"esri-icon-download\"></span> Download Unfallorte 2016 - CSV-Format (zip)</a>,\n",
       " <a id=\"Download Unfallorte 2017 CSV-Format\" title=\"DownLoad\"><span class=\"esri-icon-download\"></span> Download Unfallorte 2017 - CSV-Format (zip)</a>,\n",
       " <a id=\"Download Unfallorte 2018 CSV-Format\" title=\"DownLoad\"><span class=\"esri-icon-download\"></span> Download Unfallorte 2018 - CSV-Format (zip)</a>,\n",
       " <a id=\"Download Unfallorte 2019 CSV-Format\" title=\"DownLoad\"><span class=\"esri-icon-download\"></span> Download Unfallorte 2019 - CSV-Format (zip)</a>,\n",
       " <a id=\"Download Unfallorte 2020 CSV-Format\" title=\"DownLoad\"><span class=\"esri-icon-download\"></span> Download Unfallorte 2020 - CSV-Format (zip)</a>,\n",
       " <a id=\"Download Unfallorte 2021 CSV-Format\" title=\"DownLoad\"><span class=\"esri-icon-download\"></span> Download Unfallorte 2021 - CSV-Format (zip)</a>]"
      ]
     },
     "execution_count": 21,
     "metadata": {},
     "output_type": "execute_result"
    }
   ],
   "source": [
    "soup.find_all(id=(re.compile(\"Download\") and re.compile(\"CSV-Format\")))\n",
    "\n",
    "#def has_class_but_no_id(tag):\n",
    "#    return tag.has_attr('class') and not tag.has_attr('id')\n",
    "\n",
    "#soup.find_all(has_class_but_no_id)"
   ]
  },
  {
   "cell_type": "code",
   "execution_count": 5,
   "metadata": {},
   "outputs": [
    {
     "data": {
      "text/plain": [
       "<!DOCTYPE html>\n",
       "\n",
       "<html>\n",
       "<head>\n",
       "<meta charset=\"utf-8\"/>\n",
       "<html lang=\"de\">\n",
       "<meta content=\"width=device-width,initial-scale=1\" name=\"viewport\"/>\n",
       "<meta content=\"no-cache\" http-equiv=\"Cache-Control\"/>\n",
       "<meta content=\"Unfallatlas, opendata, German Accident Atlas \" name=\"description\"/>\n",
       "<title>Unfallatlas | OpenData</title>\n",
       "<link href=\"app/css/calcite-maps-bootstrap.min-v0.10.css\" rel=\"stylesheet\"/>\n",
       "<link href=\"app/css/calcite-maps-arcgis-4.x.min-v0.10.css\" rel=\"stylesheet\"/>\n",
       "<link href=\"https://www.gis-rest.nrw.de/jsapi/4.15/esri/css/main.css\" rel=\"stylesheet\"/>\n",
       "<link href=\"app/css/styles2021.css\" rel=\"stylesheet\"/>\n",
       "<script src=\"app/downloaden2022.js\"></script>\n",
       "<script src=\"i18next/i18next.js\"></script>\n",
       "<style>\n",
       "\t\tcode {\n",
       "\t\t\tcolor:black; background-color:#f5f5f5; margin-left: 30px;\n",
       "\t\t}\n",
       "\t\tpre {\n",
       "\t\t\tbackground:transparent; border: none;\n",
       "\t\t}\n",
       "\t\th4 {\n",
       "\t\t\tfont-weight: bold;\n",
       "\t\t}\n",
       "\t\tsection {\n",
       "\t\t\tfont-style: oblique; \n",
       "\t\t\tmargin-left:10px; margin-bottom:8px;  \n",
       "\t\t}\n",
       "\t\tp {\n",
       "\t\t\tmargin-bottom:8px;  \n",
       "\t\t}\n",
       "\t\ta {\n",
       "\t\t\tcursor: pointer;\n",
       "\t\t}\n",
       "\t</style>\n",
       "</html></head>\n",
       "<body \"class=\"calcite-nav-top claro\" id=\"body\">\n",
       "<nav class=\"navbar calcite-navbar navbar-fixed-top calcite-text-dark calcite-bg-light\">\n",
       "<div class=\"calcite-title calcite-overflow-hidden\">\n",
       "<span class=\"calcite-title-main\" id=\"Titel\" style=\"font-size:18px; margin-left:8px;\"><b>Unfallatlas</b></span>\n",
       "<span class=\"calcite-title-divider hidden-xs\"></span>\n",
       "<span class=\"calcite-title-sub hidden-xs\" id=\"subTitel\">Unfallatlas und OpenData</span>\n",
       "</div>\n",
       "<ul class=\"nav navbar-nav calcite-nav\">\n",
       "<span class=\"calcite-title-sub\"><button id=\"btnEN\" onclick=\"i18next.changeLanguage('en')\" title=\"English version\"> English </button></span>\n",
       "<span class=\"calcite-title-sub\"><button id=\"btnDE\" onclick=\"i18next.changeLanguage('de')\" title=\"Deutsche Version\"> Deutsch </button></span>\n",
       "</ul>\n",
       "<!-- Logo -->\n",
       "<ul class=\"nav navbar-nav calcite-nav\">\n",
       "<li>\n",
       "<div class=\"logo\"> <a href=\"https://www.statistikportal.de\" id=\"a_logo\" target=\"_blank\"> <img id=\"logo_img\" src=\"app/img/StatistischeÄmter-BundLänder_Logo_web.svg\"/> </a> </div>\n",
       "</li>\n",
       "</ul>\n",
       "</nav>\n",
       "<!--/.calcite-navbar -->\n",
       "<section style=\"margin-top:65px;\"><h4 id=\"f1\">Sie möchten die Unfalldaten in ein GeoPortal einbinden?</h4>\n",
       "<pre>\n",
       "   <span id=\"wms\"><b>WMS-Dienst: </b></span><a href=\"https://www.wms.nrw.de/wms/unfallatlas?request=GetCapabilities&amp;version=1.3.0&amp;service=wms\" target=\"_blank\" title=\"WMS Capabilities\">  https://www.wms.nrw.de/wms/unfallatlas?request=GetCapabilities&amp;version=1.3.0&amp;service=wms</a>\n",
       "</pre>\n",
       "</section>\n",
       "<hr/>\n",
       "<section><h4 id=\"f2\">Sie möchten die Unfalldaten herunterladen und selbst auswerten und/oder in ein lokales GIS laden?</h4>\n",
       "<pre>\n",
       "   <a id=\"Download Unfallorte 2016 shapefile\" title=\"DownLoad\"><span class=\"esri-icon-download\"></span> Download Unfallorte 2016 - shapefile (zip)</a>\n",
       "   <a id=\"Download Unfallorte 2017 shapefile\" title=\"DownLoad\"><span class=\"esri-icon-download\"></span> Download Unfallorte 2017 - shapefile (zip)</a>\n",
       "   <a id=\"Download Unfallorte 2018 shapefile\" title=\"DownLoad\"><span class=\"esri-icon-download\"></span> Download Unfallorte 2018 - shapefile (zip)</a>\n",
       "   <a id=\"Download Unfallorte 2019 shapefile\" title=\"DownLoad\"><span class=\"esri-icon-download\"></span> Download Unfallorte 2019 - shapefile (zip)</a> \n",
       "   <a id=\"Download Unfallorte 2020 shapefile\" title=\"DownLoad\"><span class=\"esri-icon-download\"></span> Download Unfallorte 2020 - shapefile (zip)</a> \n",
       "   <a id=\"Download Unfallorte 2021 shapefile\" title=\"DownLoad\"><span class=\"esri-icon-download\"></span> Download Unfallorte 2021 - shapefile (zip)</a>    \n",
       "   \n",
       "   <a id=\"Download Unfallorte 2016 CSV-Format\" title=\"DownLoad\"><span class=\"esri-icon-download\"></span> Download Unfallorte 2016 - CSV-Format (zip)</a>\n",
       "   <a id=\"Download Unfallorte 2017 CSV-Format\" title=\"DownLoad\"><span class=\"esri-icon-download\"></span> Download Unfallorte 2017 - CSV-Format (zip)</a>\n",
       "   <a id=\"Download Unfallorte 2018 CSV-Format\" title=\"DownLoad\"><span class=\"esri-icon-download\"></span> Download Unfallorte 2018 - CSV-Format (zip)</a>\n",
       "   <a id=\"Download Unfallorte 2019 CSV-Format\" title=\"DownLoad\"><span class=\"esri-icon-download\"></span> Download Unfallorte 2019 - CSV-Format (zip)</a>\n",
       "   <a id=\"Download Unfallorte 2020 CSV-Format\" title=\"DownLoad\"><span class=\"esri-icon-download\"></span> Download Unfallorte 2020 - CSV-Format (zip)</a>\n",
       "   <a id=\"Download Unfallorte 2021 CSV-Format\" title=\"DownLoad\"><span class=\"esri-icon-download\"></span> Download Unfallorte 2021 - CSV-Format (zip)</a>\n",
       "\n",
       "   <a id=\"Download Metadaten PDF\" title=\"DownLoad\"><span class=\"esri-icon-download\"></span> Download Metadaten (PDF)</a>\n",
       "   <a id=\"Download Metadata PDF\" style=\"display:none;\" title=\"DownLoad\"><span class=\"esri-icon-download\"></span> Download Metadata (PDF)</a>\n",
       "</pre>\n",
       "</section>\n",
       "<hr/>\n",
       "<section><h4 id=\"f3\">Sie möchten den Unfallatlas in Ihre Webseite einbetten oder einfach verlinken?</h4>\n",
       "<div id=\"f3a\" style=\"margin-left:30px;\">Zum Einbetten kopieren Sie einfach folgenden Code in Ihre Website:</div>\n",
       "<code>\t&lt;iframe src=\"https://unfallatlas.statistikportal.de/\" scrolling='no' style='height:770px; width:770px;'&gt;&lt;/iframe&gt;</code> <span id=\"or\">oder..</span><br/>\n",
       "<code>\t&lt;object type=\"text/html\" data=\"https://unfallatlas.statistikportal.de\" style=\"height: 770px; width:770px; border: 1px solid silver\"&gt;&lt;/object&gt;</code><br/>\n",
       "<div id=\"wh\" style=\"margin-left:30px;\">Breite und Höhe lassen sich anpassen.</div><br/>\n",
       "<div id=\"BLs\" style=\"margin-left:30px;\">So können Sie den Atlas auf ein bestimmtes Bundesland voreinstellen: Hängen Sie dazu den Ländercode an die URL:</div>\n",
       "<code>https://unfallatlas.statistikportal.de/<b>?BL=BW</b></code> = Baden-Württemberg<br/>\n",
       "<code>https://unfallatlas.statistikportal.de/<b>?BL=BY</b></code> = Bayern<br/>\n",
       "<code>https://unfallatlas.statistikportal.de/<b>?BL=BE</b></code> = Berlin<br/>\n",
       "<code>https://unfallatlas.statistikportal.de/<b>?BL=BB</b></code> = Brandenburg<br/>\n",
       "<code>https://unfallatlas.statistikportal.de/<b>?BL=HB</b></code> = Bremen<br/>\n",
       "<code>https://unfallatlas.statistikportal.de/<b>?BL=HH</b></code> = Hamburg<br/>\n",
       "<code>https://unfallatlas.statistikportal.de/<b>?BL=HE</b></code> = Hessen<br/>\n",
       "<code>https://unfallatlas.statistikportal.de/<b>?BL=MV</b></code> = Mecklenburg-Vorpommern<br/>\n",
       "<code>https://unfallatlas.statistikportal.de/<b>?BL=NI</b></code> = Niedersachsen<br/>\n",
       "<code>https://unfallatlas.statistikportal.de/<b>?BL=NW</b></code> = Nordrhein-Westfalen<br/>\n",
       "<code>https://unfallatlas.statistikportal.de/<b>?BL=RP</b></code> = Rheinland-Pfalz<br/>\n",
       "<code>https://unfallatlas.statistikportal.de/<b>?BL=SL</b></code> = Saarland<br/>\n",
       "<code>https://unfallatlas.statistikportal.de/<b>?BL=SN</b></code> = Sachsen<br/>\n",
       "<code>https://unfallatlas.statistikportal.de/<b>?BL=ST</b></code> = Sachsen-Anhalt<br/>\n",
       "<code>https://unfallatlas.statistikportal.de/<b>?BL=SH</b></code> = Schleswig-Holstein<br/>\n",
       "<code>https://unfallatlas.statistikportal.de/<b>?BL=TH</b></code> = Thüringen<br/>\n",
       "<br/>\n",
       "<div id=\"weitere\" style=\"margin-left:35px;\">\n",
       "Es können an die URL auch noch weitere Parameter angehängt werden, etwa um ein bestimmtes Jahr oder ein anderes Thema voreinzustellen.<br/> \n",
       "Klicken Sie auf den Email-Button im Menü und kopieren Sie die URL.<br/>\n",
       "Beispiel: Fahrradunfälle in Bremen 2017:<br/>\n",
       "</div>\n",
       "<code>https://unfallatlas.statistikportal.de/<b>?BL=DE&amp;Beteiligung=Fahrrad&amp;Jahr=2017&amp;scl=9028&amp;E=488218&amp;N=5881529</b></code>\n",
       "</section>\n",
       "<hr/>\n",
       "<section>\n",
       "<div id=\"govdata\" style=\"margin-left:35px;\">\n",
       "Die Nutzung ist zulässig unter den Bedingungen der<br/>\n",
       "<span class=\"esri-icon-launch-link-external\"></span><a href=\"https://www.govdata.de/dl-de/by-2-0\" target=\"_blank\"> Datenlizenz Deutschland – Namensnennung – Version 2.0</a>\n",
       "</div>\n",
       "<div id=\"BKGliz\" style=\"margin-left:35px;\">\n",
       "Der/die Nutzer/in darf über die oben beschriebene Nutzung hinaus Geodaten aus dem Produkt nicht extrahieren und in bearbeiteter oder unbearbeiteter Form weitergeben oder öffentlich zugänglich machen.\n",
       "</div>\n",
       "</section>\n",
       "<hr/>\n",
       "<script>\n",
       "\tif (screen.width <= 360) {\n",
       "\t\tdocument.getElementById(\"logo_img\").width = 170; \t\t\t\n",
       "\t} \n",
       "\telse {\t\t\t\n",
       "\t\tdocument.getElementById(\"logo_img\").width = 240;    \t\n",
       "\t}\t\n",
       "</script>\n",
       "</body>\n",
       "</html>"
      ]
     },
     "execution_count": 5,
     "metadata": {},
     "output_type": "execute_result"
    }
   ],
   "source": [
    "soup"
   ]
  },
  {
   "cell_type": "code",
   "execution_count": null,
   "metadata": {},
   "outputs": [],
   "source": []
  }
 ],
 "metadata": {
  "kernelspec": {
   "display_name": "Python 3.9.8 ('.venv': venv)",
   "language": "python",
   "name": "python3"
  },
  "language_info": {
   "codemirror_mode": {
    "name": "ipython",
    "version": 3
   },
   "file_extension": ".py",
   "mimetype": "text/x-python",
   "name": "python",
   "nbconvert_exporter": "python",
   "pygments_lexer": "ipython3",
   "version": "3.9.8"
  },
  "orig_nbformat": 4,
  "vscode": {
   "interpreter": {
    "hash": "abe290aac7a6bfdd6ff5b1727087f8416d8784ccfe70428b0457475e252cf8cd"
   }
  }
 },
 "nbformat": 4,
 "nbformat_minor": 2
}
